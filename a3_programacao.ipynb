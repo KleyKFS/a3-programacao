{
  "nbformat": 4,
  "nbformat_minor": 0,
  "metadata": {
    "colab": {
      "provenance": [],
      "authorship_tag": "ABX9TyPS0HnxN90/xILoj1w0n2IY",
      "include_colab_link": true
    },
    "kernelspec": {
      "name": "python3",
      "display_name": "Python 3"
    },
    "language_info": {
      "name": "python"
    }
  },
  "cells": [
    {
      "cell_type": "markdown",
      "metadata": {
        "id": "view-in-github",
        "colab_type": "text"
      },
      "source": [
        "<a href=\"https://colab.research.google.com/github/KleyKFS/a3-programacao/blob/main/a3_programacao.ipynb\" target=\"_parent\"><img src=\"https://colab.research.google.com/assets/colab-badge.svg\" alt=\"Open In Colab\"/></a>"
      ]
    },
    {
      "cell_type": "code",
      "execution_count": 3,
      "metadata": {
        "colab": {
          "base_uri": "https://localhost:8080/"
        },
        "id": "Ol-ZU1cJjUun",
        "outputId": "6ce4f71c-9b0a-476f-8c77-83347361ba4f"
      },
      "outputs": [
        {
          "output_type": "stream",
          "name": "stdout",
          "text": [
            "Olá aluno! Por favor, insira seu nome: Kleyton\n",
            "Certo Kleyton , vamos começar.\n",
            "Insira sua nota 1: 6.5\n",
            "Agora, insira a nota 2: 10\n",
            "Só mais uma! Insira a nota 3: 7\n",
            "Parabéns Kleyton !!! Você foi aprovado com a média de 7.833333333333333\n"
          ]
        }
      ],
      "source": [
        "nome = input('Olá aluno! Por favor, insira seu nome: ')\n",
        "print('Certo',nome,', vamos começar.')\n",
        "nota1 = float(input('Insira sua nota 1: '))\n",
        "nota2 = float(input('Agora, insira a nota 2: '))\n",
        "nota3 = float(input('Só mais uma! Insira a nota 3: '))\n",
        "media = (nota1+nota2+nota3)/3\n",
        "\n",
        "if(media >= 7):\n",
        "  print('Parabéns',nome,'!!! Você foi aprovado com a média de',media)\n",
        "\n",
        "else:\n",
        "  print(nome,', sua média foi',media,'. Infelizmente, você está reprovado.')"
      ]
    }
  ]
}